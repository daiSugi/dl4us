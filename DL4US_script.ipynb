{
  "nbformat": 4,
  "nbformat_minor": 0,
  "metadata": {
    "colab": {
      "name": "DL4US_script.ipynb",
      "version": "0.3.2",
      "views": {},
      "default_view": {},
      "provenance": [],
      "collapsed_sections": []
    },
    "kernelspec": {
      "name": "python3",
      "display_name": "Python 3"
    }
  },
  "cells": [
    {
      "metadata": {
        "id": "n997XhovIhDv",
        "colab_type": "code",
        "colab": {
          "autoexec": {
            "startup": false,
            "wait_interval": 0
          },
          "output_extras": [
            {
              "item_id": 1
            }
          ],
          "base_uri": "https://localhost:8080/",
          "height": 104
        },
        "outputId": "c585f9fc-d4d5-4836-bed5-c52616a1fc3f",
        "executionInfo": {
          "status": "ok",
          "timestamp": 1521914054716,
          "user_tz": -540,
          "elapsed": 3190,
          "user": {
            "displayName": "Daichi Sugiura",
            "photoUrl": "https://lh3.googleusercontent.com/a/default-user=s128",
            "userId": "117913278513967220044"
          }
        }
      },
      "cell_type": "code",
      "source": [
        "# Executed in https://colab.research.google.com/\n",
        "!pip install keras"
      ],
      "execution_count": 1,
      "outputs": [
        {
          "output_type": "stream",
          "text": [
            "Requirement already satisfied: keras in /usr/local/lib/python3.6/dist-packages\r\n",
            "Requirement already satisfied: scipy>=0.14 in /usr/local/lib/python3.6/dist-packages (from keras)\r\n",
            "Requirement already satisfied: numpy>=1.9.1 in /usr/local/lib/python3.6/dist-packages (from keras)\r\n",
            "Requirement already satisfied: six>=1.9.0 in /usr/local/lib/python3.6/dist-packages (from keras)\r\n",
            "Requirement already satisfied: pyyaml in /usr/local/lib/python3.6/dist-packages (from keras)\r\n"
          ],
          "name": "stdout"
        }
      ]
    },
    {
      "metadata": {
        "id": "rdHWQdv2IpL9",
        "colab_type": "code",
        "colab": {
          "autoexec": {
            "startup": false,
            "wait_interval": 0
          },
          "output_extras": [
            {
              "item_id": 1
            }
          ],
          "base_uri": "https://localhost:8080/",
          "height": 36
        },
        "outputId": "8e2326df-a906-4138-a412-42d1b9114da3",
        "executionInfo": {
          "status": "ok",
          "timestamp": 1521914057423,
          "user_tz": -540,
          "elapsed": 1545,
          "user": {
            "displayName": "Daichi Sugiura",
            "photoUrl": "https://lh3.googleusercontent.com/a/default-user=s128",
            "userId": "117913278513967220044"
          }
        }
      },
      "cell_type": "code",
      "source": [
        "import numpy as np\n",
        "import pandas as pd\n",
        "import datetime\n",
        "import os\n",
        "import sys\n",
        "import pandas as pd\n",
        "import matplotlib.pyplot as plt\n",
        "import collections\n",
        "import itertools\n",
        "from pandas import Series\n",
        "\n",
        "from keras.models import Sequential, Model\n",
        "from keras.layers import Dense, Dropout, Activation, Flatten\n",
        "from keras.layers import Conv2D, MaxPooling2D\n",
        "from keras.layers import Conv1D, MaxPooling1D\n",
        "from keras.models import Sequential\n",
        "from keras.layers import Dense, Activation, Flatten, Convolution1D, Dropout\n",
        "from keras.optimizers import SGD\n",
        "from keras.utils import np_utils\n",
        "\n",
        "from sklearn.preprocessing import LabelEncoder\n",
        "from sklearn.preprocessing import StandardScaler\n",
        "from sklearn.model_selection import StratifiedShuffleSplit\n",
        "\n",
        "import sklearn.metrics as mtrcs"
      ],
      "execution_count": 2,
      "outputs": [
        {
          "output_type": "stream",
          "text": [
            "Using TensorFlow backend.\n"
          ],
          "name": "stderr"
        }
      ]
    },
    {
      "metadata": {
        "id": "iq0kaIlLIvEM",
        "colab_type": "code",
        "colab": {
          "autoexec": {
            "startup": false,
            "wait_interval": 0
          }
        }
      },
      "cell_type": "code",
      "source": [
        "def read_zip_as_dataframe(ccyPair):\n",
        "    df = pd.DataFrame()\n",
        "    pth = './dl4us/data'\n",
        "    for filename in os.listdir(pth):\n",
        "        #if filename in ['201712_EURJPY_Week1.zip', '201712_USDJPY_Week1.zip', '201712_EURUSD_Week1.zip']:\n",
        "        if filename.find(ccyPair) > 0:\n",
        "            df = pd.concat([df, pd.read_csv(pth + '/' + filename, compression='zip', header=0, sep=',', quotechar='\"')], axis = 0)\n",
        "    # remove unnesessary columns\n",
        "    df = df[['RateDateTime','CurrencyPair', 'RateBid','RateAsk']]\n",
        "    df.columns = ['timestamp', 'ccyPair', 'bidPrice', 'askPrice']\n",
        "    df.loc[:,'midPrice'] = Series(0.5 * (df['bidPrice'].values + df['askPrice'].values), index=df.index)\n",
        "\n",
        "    return df\n",
        "\n",
        "def format_data(df):\n",
        "    df['timestamp'] = df['timestamp'].apply(lambda x : datetime.datetime.strptime(x[:-3], '%Y-%m-%d %H:%M:%S.%f') if len(x) > 19 else datetime.datetime.strptime(x+'.000', '%Y-%m-%d %H:%M:%S.%f') )\n",
        "    return df\n",
        "  \n",
        "def make_data(df, agg_seconds = 60, prediction_window = 5):\n",
        "  \n",
        "  agg_seconds = str(agg_seconds) + 'S'\n",
        "  log_return = np.log(df['midPrice'].values[1:]) - np.log(df['midPrice'][:-1].values)\n",
        "  log_return = np.append(log_return, 0.0)\n",
        "\n",
        "  df.loc[:, 'logReturn'] = log_return\n",
        "  df.loc[:, 'tickUND'] = df['logReturn'].apply( lambda x : 1 if x > 0.0 else ( -1 if x < 0 else 0)).values\n",
        "\n",
        "  df = df.set_index('timestamp')\n",
        "\n",
        "  aggDict = {'midPrice' : { 'open' : 'first', 'high' : 'max' , 'low' : min, 'close' : 'last'}, \\\n",
        "            'logReturn' : { 'logReturn' : np.sum, 'volatility' : np.std, 'totalDistance' : lambda x : np.sum(np.abs(x)) }, \\\n",
        "            'tickUND' : {'cnt' : len, 'upRatio' : lambda x : np.sum(x>0) / len(x), 'downRatio' : lambda x : np.sum(x<0) / len(x)} \\\n",
        "           }\n",
        "\n",
        "  df = df.resample(agg_seconds).agg(aggDict)\n",
        "  df.columns = df.columns.droplevel(0)\n",
        "\n",
        "  df.loc[:,'timestamp_delta'] = np.append(np.divide(df.index.values[1:] - df.index.values[:-1], 60000000000).astype(int),0)\n",
        "\n",
        "  #NaN handling\n",
        "  # by definiton, close should be forward filling\n",
        "  df.loc[:,'close'] = df['close'].ffill()\n",
        "\n",
        "  # open, high, low should be previous close if null\n",
        "  for c in ['open', 'high', 'low']:\n",
        "    df.loc[:,c] = [x if np.isnan(y) else y for x, y in zip (df['close'].values, df[c].values)]\n",
        "\n",
        "  # volatility should be zero fillig\n",
        "  df.loc[:,'volatility'] = df['volatility'].fillna(0.0)\n",
        "\n",
        "  # upRatio and donwRatio should be zero filling because by defintion upRatio + downRatio + neutralRatio = 1\n",
        "  for c in ['upRatio', 'downRatio']:\n",
        "    df.loc[:,c] = df[c].fillna(0.0)\n",
        "\n",
        "\n",
        "  # after the aggregation, the data with timesamp t1 contains the information that can be obtained btween t1 + t2 (futher information)\n",
        "  # To avoid cheating, we define the data at timestamp t(k) is the information between t(k-1) and t(k)\n",
        "  # To do that simply offet the data, dropping the first one\n",
        "\n",
        "  newdf = pd.DataFrame()\n",
        "\n",
        "  for c in df.columns:\n",
        "    newdf.loc[:,c] = df[c][:-1].values\n",
        "\n",
        "  newdf= newdf.set_index(df.index[1:])\n",
        "\n",
        "  newdf.loc[:-prediction_window,'priceChange'] = newdf['close'].values[prediction_window:] - newdf['close'].values[0:-prediction_window]\n",
        "\n",
        "  return newdf\n",
        "\n",
        "\n",
        "def make_sliding_data( df, window_size, get_fulldata_only = True ):\n",
        "  colnames = df.columns.values\n",
        "  newdf = pd.DataFrame()\n",
        "\n",
        "  colnames = colnames[colnames != 'priceChange']\n",
        "\n",
        "  for c in colnames:\n",
        "    x = df[c].values\n",
        "    x_sliding = [x[np.max([(i-window_size)+1, 0]):i+1] for i in np.arange(len(x))]\n",
        "    newdf.loc[:, c] = x_sliding\n",
        "\n",
        "  newdf.loc[:,'priceChange'] = df['priceChange'].values\n",
        "  \n",
        "  if get_fulldata_only:\n",
        "    newdf = newdf[newdf[colnames[0]].apply( lambda x : len(x) == window_size)]\n",
        "    newdf = newdf.set_index(df.index[window_size-1:])\n",
        "  else:\n",
        "    newdf = newdf.set_index(df.index)\n",
        "\n",
        "  newdf = newdf[~np.isnan(newdf['priceChange'].values)]\n",
        "                        \n",
        "  return newdf\n",
        "\n",
        "def shuffle_with_same_seed (x, y):\n",
        "  rndm_state = np.random.get_state()\n",
        "  np.random.set_state(rndm_state)\n",
        "  np.random.shuffle(x)\n",
        "  np.random.set_state(rndm_state)\n",
        "  np.random.shuffle(y)  \n",
        "  return x, y\n",
        "\n",
        "def balance_data(X, y):\n",
        "  \n",
        "  cnts = [0,0,0]\n",
        "  for i, unique_value in zip(np.arange(len(np.unique(y))), np.unique(y)):\n",
        "    cnts[i] = sum(y == unique_value)\n",
        "    \n",
        "  datanum_to_reduce = np.min(cnts) - cnts\n",
        "\n",
        "  for i, unique_value in zip(np.arange(len(np.unique(y))), np.unique(y)):\n",
        "    y_tmp = np.array(y)[np.array(y == unique_value)]\n",
        "    X_tmp = X[np.array(y == unique_value)]\n",
        "    X_tmp, y_tmp = shuffle_with_same_seed(X_tmp, y_tmp)\n",
        "    X_tmp = np.array(X_tmp)\n",
        "    y_tmp = np.array(y_tmp)\n",
        "    if datanum_to_reduce[i] < 0:\n",
        "      X_tmp = X_tmp[:datanum_to_reduce[i]]\n",
        "      y_tmp = y_tmp[:datanum_to_reduce[i]]\n",
        "\n",
        "    if i == 0:\n",
        "      X_new = X_tmp\n",
        "      y_new = y_tmp\n",
        "    else:\n",
        "      X_new = np.append(X_new, X_tmp, axis = 0)\n",
        "      y_new = np.append(y_new, y_tmp, axis = 0)\n",
        "      \n",
        "  return X_new, y_new\n",
        "\n",
        "def make_dataset(df, window_size, feature_columns, pricemove_threshold, balance_train_data, shuffledata, train_weight ):\n",
        "\n",
        "  X = np.zeros((len(df), window_size, len(feature_columns)))\n",
        "\n",
        "  for i, c in zip( np.arange(len(feature_columns)), feature_columns):\n",
        "    data = df[c].values\n",
        "    X[:,:,i] = np.vstack(data)\n",
        "\n",
        "  f = lambda x : 1 if x >= pricemove_threshold else ( 2 if x <= -1 * pricemove_threshold else 0)\n",
        "  y = [f(x) for x in df['priceChange'].values]\n",
        "\n",
        "  if shuffledata:\n",
        "    X, y = shuffle_with_same_seed(X, y)\n",
        "\n",
        "  to_index = int(train_weight * len(X))\n",
        "\n",
        "  X_train = X[:to_index]\n",
        "  y_train = y[:to_index]\n",
        "  X_test = X[to_index:]\n",
        "  y_test = y[to_index:]\n",
        "  \n",
        "  if balance_train_data:\n",
        "    X_train, y_train = balance_data(X_train, y_train)\n",
        "  \n",
        "  num_class = 3\n",
        "\n",
        "  y_train = np_utils.to_categorical(y_train, num_class)\n",
        "  y_test = np_utils.to_categorical(y_test, num_class)\n",
        "  \n",
        "  \n",
        "  return X_train, y_train, X_test, y_test \n",
        "\n",
        "def normalize_data(X_train, X_test):\n",
        "  for i in np.arange(X_train.shape[2]):\n",
        "    train_mean = np.mean(X_train[:,:,i])\n",
        "    train_std = np.std(X_train[:,:,i])\n",
        "\n",
        "    X_train[:,:,i] = (X_train[:,:,i] - train_mean) / train_std\n",
        "    X_test[:,:,i] = (X_test[:,:,i] - train_mean) / train_std\n",
        "  \n",
        " \n",
        "  return X_train, X_test\n",
        "\n",
        "\n",
        "def get_distribution(y):\n",
        "  \n",
        "  neutral = np.sum(y[:,0])\n",
        "  up = np.sum(y[:,1])\n",
        "  down = np.sum(y[:,2])\n",
        "  total = np.sum(y)\n",
        "  \n",
        "  neutral = neutral / total\n",
        "  up = up / total\n",
        "  down = down / total\n",
        "  \n",
        "  return up, neutral, down\n",
        "\n",
        "\n",
        "\n",
        "def get_confusion_matrix ( y_true, y_pred):\n",
        "\n",
        "  y_true = np.argmax(y_true, axis = 1)\n",
        "\n",
        "  y_true_label = []\n",
        "  y_pred_label = []\n",
        "\n",
        "\n",
        "  f = lambda x : 'U' if x == 1 else ( 'D' if x == 2 else 'N')\n",
        "\n",
        "  y_true_label = [f(x) for x in y_true]\n",
        "  y_pred_label = [f(x) for x in y_pred]\n",
        "\n",
        "\n",
        "  conf_matrix = np.zeros((3,3))\n",
        "  i = 0\n",
        "  for result, pred in itertools.product(['U', 'N', 'D'], ['U', 'N', 'D'] ):\n",
        "    conf_matrix[i%3, (3*i)//9] = np.sum(( np.array(y_pred_label) == pred ) * ( np.array(y_true_label) == result ))\n",
        "    i =i + 1 \n",
        "\n",
        "  df = pd.DataFrame(conf_matrix / np.sum(conf_matrix), columns = ['U', 'N', 'D'])\n",
        "  df = pd.concat((df, pd.DataFrame({ 'pred' : ['U', 'N', 'D']})), axis = 1)\n",
        "\n",
        "  df = df.loc[:,['pred','U','N', 'D']]\n",
        "  \n",
        "  return df\n",
        "\n",
        "\n",
        "def get_evaluation_matrix (conf_matrix):\n",
        "\n",
        "  somethingsmall = 0.000000000000001\n",
        "\n",
        "  conf_mat = conf_matrix[['U', 'N', 'D']].values\n",
        "\n",
        "  prec_total = np.sum([ conf_mat[i,i] for i in np.arange(3)])\n",
        "\n",
        "  prec_u = conf_mat[0,0] / np.sum(conf_mat[0,:] + somethingsmall)\n",
        "\n",
        "  prec_n = conf_mat[1,1] / np.sum(conf_mat[1,:] + somethingsmall)\n",
        "\n",
        "  prec_d = conf_mat[2,2] / np.sum(conf_mat[2,:] + somethingsmall)\n",
        "\n",
        "  prec_ud = ( conf_mat[0,0] + conf_mat[2,2]) / ( np.sum(conf_mat[0,:]) + np.sum(conf_mat[2,:]) + somethingsmall)\n",
        "\n",
        "  coverage_u = np.sum(conf_mat[0,:]) / np.sum(conf_mat)\n",
        "\n",
        "  coverage_d = np.sum(conf_mat[2,:]) / np.sum(conf_mat)\n",
        "\n",
        "  coverage_ud = coverage_u + coverage_d\n",
        "\n",
        "  profit_ratio_u = conf_mat[0,0] / ( conf_mat[0,0] + conf_mat[0,2] + somethingsmall)\n",
        "\n",
        "  profit_ratio_d = conf_mat[2,2] / ( conf_mat[2,0] + conf_mat[2,2] + somethingsmall)\n",
        "\n",
        "  profit_ratio_ud = ( conf_mat[0,0] + conf_mat[2,2] ) / ( conf_mat[0,0] + conf_mat[0,2] + conf_mat[2,0] + conf_mat[2,2] + somethingsmall )\n",
        "\n",
        "  nobig_loss_ratio_u  = ( conf_mat[0,0] + conf_mat[0,1] ) / ( np.sum(conf_mat[0,:]) + somethingsmall )\n",
        "\n",
        "  nobig_loss_ratio_d  = ( conf_mat[2,1] + conf_mat[2,2] ) / ( np.sum(conf_mat[2,:]) + somethingsmall )\n",
        "\n",
        "  nobig_loss_ratio_ud = ( conf_mat[0,0] + conf_mat[0,1] + conf_mat[2,1] + conf_mat[2,2] ) / ( np.sum(conf_mat[0,:]) + np.sum(conf_mat[2,:]) +  somethingsmall )\n",
        "\n",
        "  df = pd.DataFrame(  \\\n",
        "                      { 'coverage' : { 'u' : coverage_u, 'd' : coverage_d, 'ud' : coverage_ud}, \n",
        "                        'precision' : { 'u' : prec_u, 'd' : prec_d, 'ud' : prec_ud},\n",
        "                        'profit_ratio' : { 'u' : profit_ratio_u, 'd' : profit_ratio_d, 'ud' : profit_ratio_ud},\n",
        "                        'nobig_loss_ratio' : { 'u' : nobig_loss_ratio_u, 'd' : nobig_loss_ratio_d, 'ud' : nobig_loss_ratio_ud},\n",
        "                      } )\n",
        "\n",
        "  df = df.loc[['u','d','ud'],['coverage', 'precision', 'profit_ratio', 'nobig_loss_ratio']]\n",
        "\n",
        "  return df\n",
        "\n",
        "def check_normalized_data( train, test, feature_columns ):\n",
        "  \n",
        "  tmpdf = pd.DataFrame({ 'data' : [ 'train_mean', 'test_mean', 'train_std', 'test_std']})\n",
        "  for i in np.arange(len(feature_columns)):\n",
        "    tmpdf = pd.concat([tmpdf, pd.DataFrame({ feature_columns[i] : [ np.mean(train[:,:,i]), np.mean(test[:,:,i]),np.std(train[:,:,i]), np.std(test[:,:,i]) ] })], axis = 1 )\n",
        "\n",
        "  return tmpdf\n"
      ],
      "execution_count": 0,
      "outputs": []
    },
    {
      "metadata": {
        "id": "muIfhkVfI0Ts",
        "colab_type": "code",
        "colab": {
          "autoexec": {
            "startup": false,
            "wait_interval": 0
          },
          "output_extras": [
            {
              "item_id": 2
            }
          ],
          "base_uri": "https://localhost:8080/",
          "height": 53
        },
        "outputId": "14cac2a9-c2de-434d-c3c6-9a535b3a9f1a",
        "executionInfo": {
          "status": "ok",
          "timestamp": 1521914287747,
          "user_tz": -540,
          "elapsed": 228516,
          "user": {
            "displayName": "Daichi Sugiura",
            "photoUrl": "https://lh3.googleusercontent.com/a/default-user=s128",
            "userId": "117913278513967220044"
          }
        }
      },
      "cell_type": "code",
      "source": [
        "# build data set\n",
        "# load csv file\n",
        "df = read_zip_as_dataframe('USDJPY')\n",
        "# data formatting\n",
        "df = format_data(df)\n",
        "\n",
        "# we do 5 minutes prediction\n",
        "df = make_data(df, agg_seconds = 60, prediction_window = 5)\n",
        "\n",
        "# for test\n",
        "#df = df[:10000]\n",
        "keep = df.copy()\n",
        "\n",
        "# make sliding widow data\n",
        "window_size = 30\n",
        "df = make_sliding_data(df, window_size = window_size)\n",
        "\n",
        "# feature_columns = ['open', 'high', 'low', 'close']\n",
        "feature_columns = ['open', 'high', 'low', 'close', 'logReturn', 'volatility', 'totalDistance', 'cnt', 'upRatio', 'downRatio']\n",
        "X_train, y_train, X_test, y_test = make_dataset(df, window_size = window_size, \\\n",
        "                                                feature_columns = feature_columns, \\\n",
        "                                                pricemove_threshold = 3 * 0.01, \\\n",
        "                                                balance_train_data = True, shuffledata = True, train_weight= 0.7 )\n",
        "\n",
        "# normalizd data\n",
        "X_train, X_test = normalize_data(X_train, X_test)\n"
      ],
      "execution_count": 4,
      "outputs": [
        {
          "output_type": "stream",
          "text": [
            "/usr/local/lib/python3.6/dist-packages/ipykernel_launcher.py:32: FutureWarning: using a dict with renaming is deprecated and will be removed in a future version\n",
            "/usr/local/lib/python3.6/dist-packages/ipykernel_launcher.py:30: RuntimeWarning: invalid value encountered in long_scalars\n"
          ],
          "name": "stderr"
        }
      ]
    },
    {
      "metadata": {
        "id": "lDZAO8P3I1U0",
        "colab_type": "code",
        "colab": {
          "autoexec": {
            "startup": false,
            "wait_interval": 0
          },
          "output_extras": [
            {
              "item_id": 1
            },
            {
              "item_id": 2
            }
          ],
          "base_uri": "https://localhost:8080/",
          "height": 104
        },
        "outputId": "0e02fa56-53d6-4158-ac03-51b308e8ceb7",
        "executionInfo": {
          "status": "ok",
          "timestamp": 1521914288630,
          "user_tz": -540,
          "elapsed": 871,
          "user": {
            "displayName": "Daichi Sugiura",
            "photoUrl": "https://lh3.googleusercontent.com/a/default-user=s128",
            "userId": "117913278513967220044"
          }
        }
      },
      "cell_type": "code",
      "source": [
        "# Model definition\n",
        "num_class = 3\n",
        "num_feature = len(feature_columns)\n",
        "if 'model' in locals():\n",
        "  del model\n",
        "model = Sequential()\n",
        "model.add(Conv1D(nb_filter=32, filter_length=1, input_shape=(window_size, num_feature)))\n",
        "model.add(Activation('relu'))\n",
        "model.add(Flatten())\n",
        "model.add(Dropout(0.4))\n",
        "model.add(Dense(256, activation='relu'))\n",
        "model.add(Dense(num_class))\n",
        "model.add(Activation('sigmoid'))\n",
        "\n",
        "model.compile(loss='categorical_crossentropy', optimizer='adam', metrics=['accuracy'])\n",
        "\n"
      ],
      "execution_count": 5,
      "outputs": [
        {
          "output_type": "stream",
          "text": [
            "/usr/local/lib/python3.6/dist-packages/ipykernel_launcher.py:6: UserWarning: Update your `Conv1D` call to the Keras 2 API: `Conv1D(input_shape=(30, 10), filters=32, kernel_size=1)`\n",
            "  \n"
          ],
          "name": "stderr"
        },
        {
          "output_type": "stream",
          "text": [
            "WARNING:tensorflow:From /usr/local/lib/python3.6/dist-packages/tensorflow/python/util/deprecation.py:497: calling conv1d (from tensorflow.python.ops.nn_ops) with data_format=NHWC is deprecated and will be removed in a future version.\n",
            "Instructions for updating:\n",
            "`NHWC` for data_format is deprecated, use `NWC` instead\n"
          ],
          "name": "stdout"
        }
      ]
    },
    {
      "metadata": {
        "id": "snif71nfI8jN",
        "colab_type": "code",
        "colab": {
          "autoexec": {
            "startup": false,
            "wait_interval": 0
          },
          "output_extras": [
            {
              "item_id": 1
            },
            {
              "item_id": 12
            },
            {
              "item_id": 23
            },
            {
              "item_id": 31
            }
          ],
          "base_uri": "https://localhost:8080/",
          "height": 750
        },
        "outputId": "d04badf1-bfde-4e85-cf8e-71a833b3cc73",
        "executionInfo": {
          "status": "ok",
          "timestamp": 1521914318934,
          "user_tz": -540,
          "elapsed": 29904,
          "user": {
            "displayName": "Daichi Sugiura",
            "photoUrl": "https://lh3.googleusercontent.com/a/default-user=s128",
            "userId": "117913278513967220044"
          }
        }
      },
      "cell_type": "code",
      "source": [
        "# Learning\n",
        "num_epoch = 20\n",
        "history = model.fit(X_train, y_train, nb_epoch=num_epoch, validation_data=(X_train[:1000], y_train[:1000]), batch_size=1024)\n",
        "\n",
        "y_train_prediction = model.predict_classes(X_train)\n",
        "y_test_prediction = model.predict_classes(X_test)\n"
      ],
      "execution_count": 6,
      "outputs": [
        {
          "output_type": "stream",
          "text": [
            "/usr/local/lib/python3.6/dist-packages/keras/models.py:942: UserWarning: The `nb_epoch` argument in `fit` has been renamed `epochs`.\n",
            "  warnings.warn('The `nb_epoch` argument in `fit` '\n"
          ],
          "name": "stderr"
        },
        {
          "output_type": "stream",
          "text": [
            "Train on 22569 samples, validate on 1000 samples\n",
            "Epoch 1/20\n",
            "22569/22569 [==============================] - 1s 66us/step - loss: 0.9476 - acc: 0.4836 - val_loss: 0.7133 - val_acc: 0.6730\n",
            "Epoch 2/20\n",
            "22569/22569 [==============================] - 1s 59us/step - loss: 0.9211 - acc: 0.4945 - val_loss: 0.7191 - val_acc: 0.6660\n",
            "Epoch 3/20\n",
            "22569/22569 [==============================] - 1s 59us/step - loss: 0.9149 - acc: 0.5029 - val_loss: 0.7973 - val_acc: 0.6200\n",
            "Epoch 4/20\n",
            "22569/22569 [==============================] - 1s 59us/step - loss: 0.9115 - acc: 0.5019 - val_loss: 0.7293 - val_acc: 0.6670\n",
            "Epoch 5/20\n",
            "22569/22569 [==============================] - 1s 59us/step - loss: 0.9094 - acc: 0.5032 - val_loss: 0.7426 - val_acc: 0.6460\n",
            "Epoch 6/20\n",
            "22569/22569 [==============================] - 1s 59us/step - loss: 0.9091 - acc: 0.5075 - val_loss: 0.8598 - val_acc: 0.6060\n",
            "Epoch 7/20\n",
            "22569/22569 [==============================] - 1s 60us/step - loss: 0.9077 - acc: 0.5096 - val_loss: 0.8014 - val_acc: 0.6050\n",
            "Epoch 8/20\n",
            " 5120/22569 [=====>........................] - ETA: 1s - loss: 0.9098 - acc: 0.5180"
          ],
          "name": "stdout"
        },
        {
          "output_type": "stream",
          "text": [
            "22569/22569 [==============================] - 1s 59us/step - loss: 0.9039 - acc: 0.5160 - val_loss: 0.7649 - val_acc: 0.6390\n",
            "Epoch 9/20\n",
            "22569/22569 [==============================] - 1s 59us/step - loss: 0.9025 - acc: 0.5158 - val_loss: 0.8358 - val_acc: 0.5900\n",
            "Epoch 10/20\n",
            "22569/22569 [==============================] - 1s 59us/step - loss: 0.8998 - acc: 0.5169 - val_loss: 0.7381 - val_acc: 0.6450\n",
            "Epoch 11/20\n",
            "22569/22569 [==============================] - 1s 59us/step - loss: 0.9046 - acc: 0.5175 - val_loss: 0.7568 - val_acc: 0.6290\n",
            "Epoch 12/20\n",
            "22569/22569 [==============================] - 1s 58us/step - loss: 0.8974 - acc: 0.5181 - val_loss: 0.7552 - val_acc: 0.6480\n",
            "Epoch 13/20\n",
            "22569/22569 [==============================] - 1s 59us/step - loss: 0.8953 - acc: 0.5231 - val_loss: 0.7937 - val_acc: 0.6190\n",
            "Epoch 14/20\n",
            "22569/22569 [==============================] - 1s 59us/step - loss: 0.8942 - acc: 0.5232 - val_loss: 0.7612 - val_acc: 0.6460\n",
            "Epoch 15/20\n",
            "15360/22569 [===================>..........] - ETA: 0s - loss: 0.8913 - acc: 0.5251"
          ],
          "name": "stdout"
        },
        {
          "output_type": "stream",
          "text": [
            "22569/22569 [==============================] - 1s 61us/step - loss: 0.8911 - acc: 0.5267 - val_loss: 0.7654 - val_acc: 0.6360\n",
            "Epoch 16/20\n",
            "22569/22569 [==============================] - 1s 59us/step - loss: 0.8885 - acc: 0.5272 - val_loss: 0.7267 - val_acc: 0.6500\n",
            "Epoch 17/20\n",
            "22569/22569 [==============================] - 1s 59us/step - loss: 0.8871 - acc: 0.5320 - val_loss: 0.7521 - val_acc: 0.6240\n",
            "Epoch 18/20\n",
            "22569/22569 [==============================] - 1s 58us/step - loss: 0.8875 - acc: 0.5348 - val_loss: 0.8029 - val_acc: 0.5930\n",
            "Epoch 19/20\n",
            "22569/22569 [==============================] - 1s 60us/step - loss: 0.8811 - acc: 0.5371 - val_loss: 0.7238 - val_acc: 0.6530\n",
            "Epoch 20/20\n",
            "22569/22569 [==============================] - 1s 58us/step - loss: 0.8798 - acc: 0.5396 - val_loss: 0.7662 - val_acc: 0.6130\n"
          ],
          "name": "stdout"
        }
      ]
    },
    {
      "metadata": {
        "id": "jkDX4K7sJAwz",
        "colab_type": "code",
        "colab": {
          "autoexec": {
            "startup": false,
            "wait_interval": 0
          },
          "output_extras": [
            {
              "item_id": 1
            },
            {
              "item_id": 2
            }
          ],
          "base_uri": "https://localhost:8080/",
          "height": 380
        },
        "outputId": "b3ad6248-098f-46fa-d82b-430d32b39329",
        "executionInfo": {
          "status": "ok",
          "timestamp": 1521914319664,
          "user_tz": -540,
          "elapsed": 717,
          "user": {
            "displayName": "Daichi Sugiura",
            "photoUrl": "https://lh3.googleusercontent.com/a/default-user=s128",
            "userId": "117913278513967220044"
          }
        }
      },
      "cell_type": "code",
      "source": [
        "fig, ax = plt.subplots()\n",
        "ax.plot(np.arange(num_epoch), history.history['acc'])\n",
        "ax.set_xlabel(\"epochs\")\n",
        "ax.set_ylabel(\"accuracy\")\n",
        " "
      ],
      "execution_count": 7,
      "outputs": [
        {
          "output_type": "execute_result",
          "data": {
            "text/plain": [
              "Text(0,0.5,'accuracy')"
            ]
          },
          "metadata": {
            "tags": []
          },
          "execution_count": 7
        },
        {
          "output_type": "display_data",
          "data": {
            "image/png": "[encoded data removed]",
            "text/plain": [
              "<matplotlib.figure.Figure at 0x7f12f2484470>"
            ]
          },
          "metadata": {
            "tags": []
          }
        }
      ]
    },
    {
      "metadata": {
        "id": "UVs7TUbsJCek",
        "colab_type": "code",
        "colab": {
          "autoexec": {
            "startup": false,
            "wait_interval": 0
          },
          "output_extras": [
            {
              "item_id": 1
            }
          ],
          "base_uri": "https://localhost:8080/",
          "height": 142
        },
        "outputId": "089dc7c0-d3e2-4072-8c83-58b532f7c423",
        "executionInfo": {
          "status": "ok",
          "timestamp": 1521914320496,
          "user_tz": -540,
          "elapsed": 482,
          "user": {
            "displayName": "Daichi Sugiura",
            "photoUrl": "https://lh3.googleusercontent.com/a/default-user=s128",
            "userId": "117913278513967220044"
          }
        }
      },
      "cell_type": "code",
      "source": [
        "# confusion matrix of the last epoc of training\n",
        "conf_train = get_confusion_matrix(y_train, y_train_prediction)\n",
        "conf_train"
      ],
      "execution_count": 8,
      "outputs": [
        {
          "output_type": "execute_result",
          "data": {
            "text/html": [
              "<div>\n",
              "<style scoped>\n",
              "    .dataframe tbody tr th:only-of-type {\n",
              "        vertical-align: middle;\n",
              "    }\n",
              "\n",
              "    .dataframe tbody tr th {\n",
              "        vertical-align: top;\n",
              "    }\n",
              "\n",
              "    .dataframe thead th {\n",
              "        text-align: right;\n",
              "    }\n",
              "</style>\n",
              "<table border=\"1\" class=\"dataframe\">\n",
              "  <thead>\n",
              "    <tr style=\"text-align: right;\">\n",
              "      <th></th>\n",
              "      <th>pred</th>\n",
              "      <th>U</th>\n",
              "      <th>N</th>\n",
              "      <th>D</th>\n",
              "    </tr>\n",
              "  </thead>\n",
              "  <tbody>\n",
              "    <tr>\n",
              "      <th>0</th>\n",
              "      <td>U</td>\n",
              "      <td>0.171607</td>\n",
              "      <td>0.066684</td>\n",
              "      <td>0.110328</td>\n",
              "    </tr>\n",
              "    <tr>\n",
              "      <th>1</th>\n",
              "      <td>N</td>\n",
              "      <td>0.028269</td>\n",
              "      <td>0.201117</td>\n",
              "      <td>0.029111</td>\n",
              "    </tr>\n",
              "    <tr>\n",
              "      <th>2</th>\n",
              "      <td>D</td>\n",
              "      <td>0.133457</td>\n",
              "      <td>0.065532</td>\n",
              "      <td>0.193894</td>\n",
              "    </tr>\n",
              "  </tbody>\n",
              "</table>\n",
              "</div>"
            ],
            "text/plain": [
              "  pred         U         N         D\n",
              "0    U  0.171607  0.066684  0.110328\n",
              "1    N  0.028269  0.201117  0.029111\n",
              "2    D  0.133457  0.065532  0.193894"
            ]
          },
          "metadata": {
            "tags": []
          },
          "execution_count": 8
        }
      ]
    },
    {
      "metadata": {
        "id": "wmDJX2vGJCw0",
        "colab_type": "code",
        "colab": {
          "autoexec": {
            "startup": false,
            "wait_interval": 0
          },
          "output_extras": [
            {
              "item_id": 1
            }
          ],
          "base_uri": "https://localhost:8080/",
          "height": 142
        },
        "outputId": "e463a33c-4536-4a86-a110-0f5238453d26",
        "executionInfo": {
          "status": "ok",
          "timestamp": 1521914321498,
          "user_tz": -540,
          "elapsed": 483,
          "user": {
            "displayName": "Daichi Sugiura",
            "photoUrl": "https://lh3.googleusercontent.com/a/default-user=s128",
            "userId": "117913278513967220044"
          }
        }
      },
      "cell_type": "code",
      "source": [
        "# signal evaluation matrix of the last epoc of traning\n",
        "get_evaluation_matrix(conf_train)"
      ],
      "execution_count": 9,
      "outputs": [
        {
          "output_type": "execute_result",
          "data": {
            "text/html": [
              "<div>\n",
              "<style scoped>\n",
              "    .dataframe tbody tr th:only-of-type {\n",
              "        vertical-align: middle;\n",
              "    }\n",
              "\n",
              "    .dataframe tbody tr th {\n",
              "        vertical-align: top;\n",
              "    }\n",
              "\n",
              "    .dataframe thead th {\n",
              "        text-align: right;\n",
              "    }\n",
              "</style>\n",
              "<table border=\"1\" class=\"dataframe\">\n",
              "  <thead>\n",
              "    <tr style=\"text-align: right;\">\n",
              "      <th></th>\n",
              "      <th>coverage</th>\n",
              "      <th>precision</th>\n",
              "      <th>profit_ratio</th>\n",
              "      <th>nobig_loss_ratio</th>\n",
              "    </tr>\n",
              "  </thead>\n",
              "  <tbody>\n",
              "    <tr>\n",
              "      <th>u</th>\n",
              "      <td>0.348620</td>\n",
              "      <td>0.492247</td>\n",
              "      <td>0.608675</td>\n",
              "      <td>0.683528</td>\n",
              "    </tr>\n",
              "    <tr>\n",
              "      <th>d</th>\n",
              "      <td>0.392884</td>\n",
              "      <td>0.493515</td>\n",
              "      <td>0.592312</td>\n",
              "      <td>0.660314</td>\n",
              "    </tr>\n",
              "    <tr>\n",
              "      <th>ud</th>\n",
              "      <td>0.741504</td>\n",
              "      <td>0.492919</td>\n",
              "      <td>0.599884</td>\n",
              "      <td>0.671228</td>\n",
              "    </tr>\n",
              "  </tbody>\n",
              "</table>\n",
              "</div>"
            ],
            "text/plain": [
              "    coverage  precision  profit_ratio  nobig_loss_ratio\n",
              "u   0.348620   0.492247      0.608675          0.683528\n",
              "d   0.392884   0.493515      0.592312          0.660314\n",
              "ud  0.741504   0.492919      0.599884          0.671228"
            ]
          },
          "metadata": {
            "tags": []
          },
          "execution_count": 9
        }
      ]
    },
    {
      "metadata": {
        "id": "0BMLJJmcJCzD",
        "colab_type": "code",
        "colab": {
          "autoexec": {
            "startup": false,
            "wait_interval": 0
          },
          "output_extras": [
            {
              "item_id": 1
            }
          ],
          "base_uri": "https://localhost:8080/",
          "height": 142
        },
        "outputId": "f98ad3a9-fe72-477c-9c28-9dabeefa0efb",
        "executionInfo": {
          "status": "ok",
          "timestamp": 1521914322866,
          "user_tz": -540,
          "elapsed": 861,
          "user": {
            "displayName": "Daichi Sugiura",
            "photoUrl": "https://lh3.googleusercontent.com/a/default-user=s128",
            "userId": "117913278513967220044"
          }
        }
      },
      "cell_type": "code",
      "source": [
        "# confusion matrix of test \n",
        "conf_test = get_confusion_matrix(y_test, y_test_prediction)\n",
        "conf_test"
      ],
      "execution_count": 10,
      "outputs": [
        {
          "output_type": "execute_result",
          "data": {
            "text/html": [
              "<div>\n",
              "<style scoped>\n",
              "    .dataframe tbody tr th:only-of-type {\n",
              "        vertical-align: middle;\n",
              "    }\n",
              "\n",
              "    .dataframe tbody tr th {\n",
              "        vertical-align: top;\n",
              "    }\n",
              "\n",
              "    .dataframe thead th {\n",
              "        text-align: right;\n",
              "    }\n",
              "</style>\n",
              "<table border=\"1\" class=\"dataframe\">\n",
              "  <thead>\n",
              "    <tr style=\"text-align: right;\">\n",
              "      <th></th>\n",
              "      <th>pred</th>\n",
              "      <th>U</th>\n",
              "      <th>N</th>\n",
              "      <th>D</th>\n",
              "    </tr>\n",
              "  </thead>\n",
              "  <tbody>\n",
              "    <tr>\n",
              "      <th>0</th>\n",
              "      <td>U</td>\n",
              "      <td>0.035017</td>\n",
              "      <td>0.180524</td>\n",
              "      <td>0.034211</td>\n",
              "    </tr>\n",
              "    <tr>\n",
              "      <th>1</th>\n",
              "      <td>N</td>\n",
              "      <td>0.009236</td>\n",
              "      <td>0.476534</td>\n",
              "      <td>0.008143</td>\n",
              "    </tr>\n",
              "    <tr>\n",
              "      <th>2</th>\n",
              "      <td>D</td>\n",
              "      <td>0.042042</td>\n",
              "      <td>0.171367</td>\n",
              "      <td>0.042926</td>\n",
              "    </tr>\n",
              "  </tbody>\n",
              "</table>\n",
              "</div>"
            ],
            "text/plain": [
              "  pred         U         N         D\n",
              "0    U  0.035017  0.180524  0.034211\n",
              "1    N  0.009236  0.476534  0.008143\n",
              "2    D  0.042042  0.171367  0.042926"
            ]
          },
          "metadata": {
            "tags": []
          },
          "execution_count": 10
        }
      ]
    },
    {
      "metadata": {
        "id": "-PAxZkARJC1T",
        "colab_type": "code",
        "colab": {
          "autoexec": {
            "startup": false,
            "wait_interval": 0
          },
          "output_extras": [
            {
              "item_id": 1
            }
          ],
          "base_uri": "https://localhost:8080/",
          "height": 142
        },
        "outputId": "6f3ca5d8-79e1-4b4c-9d1b-9593755ad803",
        "executionInfo": {
          "status": "ok",
          "timestamp": 1521914324562,
          "user_tz": -540,
          "elapsed": 557,
          "user": {
            "displayName": "Daichi Sugiura",
            "photoUrl": "https://lh3.googleusercontent.com/a/default-user=s128",
            "userId": "117913278513967220044"
          }
        }
      },
      "cell_type": "code",
      "source": [
        "# signal evaluation matrix of test\n",
        "get_evaluation_matrix(conf_test)"
      ],
      "execution_count": 11,
      "outputs": [
        {
          "output_type": "execute_result",
          "data": {
            "text/html": [
              "<div>\n",
              "<style scoped>\n",
              "    .dataframe tbody tr th:only-of-type {\n",
              "        vertical-align: middle;\n",
              "    }\n",
              "\n",
              "    .dataframe tbody tr th {\n",
              "        vertical-align: top;\n",
              "    }\n",
              "\n",
              "    .dataframe thead th {\n",
              "        text-align: right;\n",
              "    }\n",
              "</style>\n",
              "<table border=\"1\" class=\"dataframe\">\n",
              "  <thead>\n",
              "    <tr style=\"text-align: right;\">\n",
              "      <th></th>\n",
              "      <th>coverage</th>\n",
              "      <th>precision</th>\n",
              "      <th>profit_ratio</th>\n",
              "      <th>nobig_loss_ratio</th>\n",
              "    </tr>\n",
              "  </thead>\n",
              "  <tbody>\n",
              "    <tr>\n",
              "      <th>u</th>\n",
              "      <td>0.249753</td>\n",
              "      <td>0.140208</td>\n",
              "      <td>0.505825</td>\n",
              "      <td>0.863021</td>\n",
              "    </tr>\n",
              "    <tr>\n",
              "      <th>d</th>\n",
              "      <td>0.256335</td>\n",
              "      <td>0.167462</td>\n",
              "      <td>0.505205</td>\n",
              "      <td>0.835989</td>\n",
              "    </tr>\n",
              "    <tr>\n",
              "      <th>ud</th>\n",
              "      <td>0.506088</td>\n",
              "      <td>0.154012</td>\n",
              "      <td>0.505483</td>\n",
              "      <td>0.849329</td>\n",
              "    </tr>\n",
              "  </tbody>\n",
              "</table>\n",
              "</div>"
            ],
            "text/plain": [
              "    coverage  precision  profit_ratio  nobig_loss_ratio\n",
              "u   0.249753   0.140208      0.505825          0.863021\n",
              "d   0.256335   0.167462      0.505205          0.835989\n",
              "ud  0.506088   0.154012      0.505483          0.849329"
            ]
          },
          "metadata": {
            "tags": []
          },
          "execution_count": 11
        }
      ]
    },
    {
      "metadata": {
        "id": "w2lsb4hDJC3X",
        "colab_type": "code",
        "colab": {
          "autoexec": {
            "startup": false,
            "wait_interval": 0
          },
          "output_extras": [
            {
              "item_id": 1
            }
          ],
          "base_uri": "https://localhost:8080/",
          "height": 173
        },
        "outputId": "80c9368d-9196-41d2-ec36-7fc6fd4d6290",
        "executionInfo": {
          "status": "ok",
          "timestamp": 1521914325762,
          "user_tz": -540,
          "elapsed": 763,
          "user": {
            "displayName": "Daichi Sugiura",
            "photoUrl": "https://lh3.googleusercontent.com/a/default-user=s128",
            "userId": "117913278513967220044"
          }
        }
      },
      "cell_type": "code",
      "source": [
        "# Check input distribution\n",
        "check_normalized_data( X_train, X_test, feature_columns )\n"
      ],
      "execution_count": 12,
      "outputs": [
        {
          "output_type": "execute_result",
          "data": {
            "text/html": [
              "<div>\n",
              "<style scoped>\n",
              "    .dataframe tbody tr th:only-of-type {\n",
              "        vertical-align: middle;\n",
              "    }\n",
              "\n",
              "    .dataframe tbody tr th {\n",
              "        vertical-align: top;\n",
              "    }\n",
              "\n",
              "    .dataframe thead th {\n",
              "        text-align: right;\n",
              "    }\n",
              "</style>\n",
              "<table border=\"1\" class=\"dataframe\">\n",
              "  <thead>\n",
              "    <tr style=\"text-align: right;\">\n",
              "      <th></th>\n",
              "      <th>data</th>\n",
              "      <th>open</th>\n",
              "      <th>high</th>\n",
              "      <th>low</th>\n",
              "      <th>close</th>\n",
              "      <th>logReturn</th>\n",
              "      <th>volatility</th>\n",
              "      <th>totalDistance</th>\n",
              "      <th>cnt</th>\n",
              "      <th>upRatio</th>\n",
              "      <th>downRatio</th>\n",
              "    </tr>\n",
              "  </thead>\n",
              "  <tbody>\n",
              "    <tr>\n",
              "      <th>0</th>\n",
              "      <td>train_mean</td>\n",
              "      <td>1.746566e-14</td>\n",
              "      <td>-2.703418e-14</td>\n",
              "      <td>5.332822e-16</td>\n",
              "      <td>-1.072005e-14</td>\n",
              "      <td>-7.083704e-19</td>\n",
              "      <td>1.455780e-16</td>\n",
              "      <td>3.297753e-16</td>\n",
              "      <td>-1.947756e-17</td>\n",
              "      <td>1.309698e-17</td>\n",
              "      <td>2.982082e-16</td>\n",
              "    </tr>\n",
              "    <tr>\n",
              "      <th>1</th>\n",
              "      <td>test_mean</td>\n",
              "      <td>2.480682e-01</td>\n",
              "      <td>2.470206e-01</td>\n",
              "      <td>2.491635e-01</td>\n",
              "      <td>2.481159e-01</td>\n",
              "      <td>5.518509e-03</td>\n",
              "      <td>-5.806836e-02</td>\n",
              "      <td>-3.088849e-01</td>\n",
              "      <td>-4.111296e-01</td>\n",
              "      <td>-4.563962e-01</td>\n",
              "      <td>-4.594147e-01</td>\n",
              "    </tr>\n",
              "    <tr>\n",
              "      <th>2</th>\n",
              "      <td>train_std</td>\n",
              "      <td>1.000000e+00</td>\n",
              "      <td>1.000000e+00</td>\n",
              "      <td>1.000000e+00</td>\n",
              "      <td>1.000000e+00</td>\n",
              "      <td>1.000000e+00</td>\n",
              "      <td>1.000000e+00</td>\n",
              "      <td>1.000000e+00</td>\n",
              "      <td>1.000000e+00</td>\n",
              "      <td>1.000000e+00</td>\n",
              "      <td>1.000000e+00</td>\n",
              "    </tr>\n",
              "    <tr>\n",
              "      <th>3</th>\n",
              "      <td>test_std</td>\n",
              "      <td>1.035634e+00</td>\n",
              "      <td>1.035772e+00</td>\n",
              "      <td>1.035466e+00</td>\n",
              "      <td>1.035615e+00</td>\n",
              "      <td>1.379785e+00</td>\n",
              "      <td>1.789777e+00</td>\n",
              "      <td>8.941699e-01</td>\n",
              "      <td>9.296934e-01</td>\n",
              "      <td>1.307654e+00</td>\n",
              "      <td>1.307017e+00</td>\n",
              "    </tr>\n",
              "  </tbody>\n",
              "</table>\n",
              "</div>"
            ],
            "text/plain": [
              "         data          open          high           low         close  \\\n",
              "0  train_mean  1.746566e-14 -2.703418e-14  5.332822e-16 -1.072005e-14   \n",
              "1   test_mean  2.480682e-01  2.470206e-01  2.491635e-01  2.481159e-01   \n",
              "2   train_std  1.000000e+00  1.000000e+00  1.000000e+00  1.000000e+00   \n",
              "3    test_std  1.035634e+00  1.035772e+00  1.035466e+00  1.035615e+00   \n",
              "\n",
              "      logReturn    volatility  totalDistance           cnt       upRatio  \\\n",
              "0 -7.083704e-19  1.455780e-16   3.297753e-16 -1.947756e-17  1.309698e-17   \n",
              "1  5.518509e-03 -5.806836e-02  -3.088849e-01 -4.111296e-01 -4.563962e-01   \n",
              "2  1.000000e+00  1.000000e+00   1.000000e+00  1.000000e+00  1.000000e+00   \n",
              "3  1.379785e+00  1.789777e+00   8.941699e-01  9.296934e-01  1.307654e+00   \n",
              "\n",
              "      downRatio  \n",
              "0  2.982082e-16  \n",
              "1 -4.594147e-01  \n",
              "2  1.000000e+00  \n",
              "3  1.307017e+00  "
            ]
          },
          "metadata": {
            "tags": []
          },
          "execution_count": 12
        }
      ]
    },
    {
      "metadata": {
        "id": "b4bcjvkXJC5U",
        "colab_type": "code",
        "colab": {
          "autoexec": {
            "startup": false,
            "wait_interval": 0
          },
          "output_extras": [
            {
              "item_id": 1
            }
          ],
          "base_uri": "https://localhost:8080/",
          "height": 376
        },
        "outputId": "ba62733d-5420-4c53-f3e0-7787d8f1a385",
        "executionInfo": {
          "status": "ok",
          "timestamp": 1521914327513,
          "user_tz": -540,
          "elapsed": 483,
          "user": {
            "displayName": "Daichi Sugiura",
            "photoUrl": "https://lh3.googleusercontent.com/a/default-user=s128",
            "userId": "117913278513967220044"
          }
        }
      },
      "cell_type": "code",
      "source": [
        "model.summary()"
      ],
      "execution_count": 13,
      "outputs": [
        {
          "output_type": "stream",
          "text": [
            "_________________________________________________________________\n",
            "Layer (type)                 Output Shape              Param #   \n",
            "=================================================================\n",
            "conv1d_1 (Conv1D)            (None, 30, 32)            352       \n",
            "_________________________________________________________________\n",
            "activation_1 (Activation)    (None, 30, 32)            0         \n",
            "_________________________________________________________________\n",
            "flatten_1 (Flatten)          (None, 960)               0         \n",
            "_________________________________________________________________\n",
            "dropout_1 (Dropout)          (None, 960)               0         \n",
            "_________________________________________________________________\n",
            "dense_1 (Dense)              (None, 256)               246016    \n",
            "_________________________________________________________________\n",
            "dense_2 (Dense)              (None, 3)                 771       \n",
            "_________________________________________________________________\n",
            "activation_2 (Activation)    (None, 3)                 0         \n",
            "=================================================================\n",
            "Total params: 247,139\n",
            "Trainable params: 247,139\n",
            "Non-trainable params: 0\n",
            "_________________________________________________________________\n"
          ],
          "name": "stdout"
        }
      ]
    },
    {
      "metadata": {
        "id": "WWWEnwT3JDBP",
        "colab_type": "code",
        "colab": {
          "autoexec": {
            "startup": false,
            "wait_interval": 0
          }
        }
      },
      "cell_type": "code",
      "source": [
        ""
      ],
      "execution_count": 0,
      "outputs": []
    }
  ]
}